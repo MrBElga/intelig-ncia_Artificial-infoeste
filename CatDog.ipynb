{
  "nbformat": 4,
  "nbformat_minor": 0,
  "metadata": {
    "colab": {
      "provenance": [],
      "gpuType": "T4"
    },
    "kernelspec": {
      "name": "python3",
      "display_name": "Python 3"
    },
    "language_info": {
      "name": "python"
    },
    "accelerator": "GPU"
  },
  "cells": [
    {
      "cell_type": "code",
      "execution_count": 1,
      "metadata": {
        "colab": {
          "base_uri": "https://localhost:8080/"
        },
        "id": "vVNJiDoIwvb2",
        "outputId": "93d9ef92-2a0f-49cc-ce2c-1410fcd636b6"
      },
      "outputs": [
        {
          "output_type": "stream",
          "name": "stdout",
          "text": [
            "Drive already mounted at /content/drive; to attempt to forcibly remount, call drive.mount(\"/content/drive\", force_remount=True).\n"
          ]
        }
      ],
      "source": [
        "from google.colab import drive\n",
        "drive.mount('/content/drive')"
      ]
    },
    {
      "cell_type": "code",
      "source": [
        "#imports do código\n",
        "\n",
        "from keras.models import Sequential\n",
        "from keras.layers import Conv2D, MaxPooling2D, Flatten, Dense, Dropout, BatchNormalization\n",
        "from tensorflow.keras.preprocessing.image import ImageDataGenerator\n",
        "import numpy as np\n",
        "from tensorflow.keras.preprocessing import image"
      ],
      "metadata": {
        "id": "QsRByIhpx4HR"
      },
      "execution_count": 2,
      "outputs": []
    },
    {
      "cell_type": "code",
      "source": [
        "cls = Sequential()\n",
        "cls.add(Conv2D(32, (3, 3), input_shape = (64, 64, 3), activation = 'relu'))\n",
        "cls.add(BatchNormalization())\n",
        "\n",
        "cls.add(MaxPooling2D(pool_size = (2, 2)))\n",
        "cls.add(Flatten())\n",
        "\n",
        "cls.add(Dense(units = 64, activation = 'relu'))\n",
        "cls.add(Dropout(0.2))\n",
        "cls.add(Dense(units = 64, activation = 'relu'))\n",
        "cls.add(Dropout(0.2))\n",
        "cls.add(Dense(units = 1, activation = 'sigmoid'))\n",
        "\n",
        "\n",
        "cls.compile(optimizer = 'adam', loss = 'binary_crossentropy', metrics = ['accuracy'])"
      ],
      "metadata": {
        "colab": {
          "base_uri": "https://localhost:8080/"
        },
        "id": "5PqtQFm-zx8Z",
        "outputId": "c0548e27-4934-4d6e-9beb-8ac2ebcb9a64"
      },
      "execution_count": 3,
      "outputs": [
        {
          "output_type": "stream",
          "name": "stderr",
          "text": [
            "/usr/local/lib/python3.10/dist-packages/keras/src/layers/convolutional/base_conv.py:107: UserWarning: Do not pass an `input_shape`/`input_dim` argument to a layer. When using Sequential models, prefer using an `Input(shape)` object as the first layer in the model instead.\n",
            "  super().__init__(activity_regularizer=activity_regularizer, **kwargs)\n"
          ]
        }
      ]
    },
    {
      "cell_type": "code",
      "source": [
        "gerador_treinamento = ImageDataGenerator(rescale=1./255)\n",
        "\n",
        "gerador_teste = ImageDataGenerator(rescale=1./255)"
      ],
      "metadata": {
        "id": "PlsoH4M_4tsh"
      },
      "execution_count": 4,
      "outputs": []
    },
    {
      "cell_type": "code",
      "source": [
        "base_treinamento = gerador_treinamento.flow_from_directory('/content/drive/MyDrive/Curso Para Alunos/dataset2K/training_set',\n",
        "                                                           target_size=(64, 64),\n",
        "                                                           batch_size=32,\n",
        "                                                           class_mode='binary'\n",
        "                                                           )\n",
        "\n",
        "base_teste = gerador_teste.flow_from_directory('/content/drive/MyDrive/Curso Para Alunos/dataset2K/test_set',\n",
        "                                                          target_size=(64, 64),\n",
        "                                                           batch_size=32,\n",
        "                                                           class_mode='binary'\n",
        "                                                            )"
      ],
      "metadata": {
        "colab": {
          "base_uri": "https://localhost:8080/"
        },
        "id": "oAxbwbl95VfY",
        "outputId": "9d2b3646-4607-49dc-c185-1c53f9277271"
      },
      "execution_count": 5,
      "outputs": [
        {
          "output_type": "stream",
          "name": "stdout",
          "text": [
            "Found 2000 images belonging to 2 classes.\n",
            "Found 633 images belonging to 2 classes.\n"
          ]
        }
      ]
    },
    {
      "cell_type": "code",
      "source": [
        "cls.fit(base_treinamento, steps_per_epoch=64 ,epochs = 15,\n",
        "        validation_data = base_teste, validation_steps = 64)"
      ],
      "metadata": {
        "colab": {
          "base_uri": "https://localhost:8080/"
        },
        "id": "6z-dXldL7zJg",
        "outputId": "4058f135-a762-4991-80a4-67ee921c3d6f"
      },
      "execution_count": 6,
      "outputs": [
        {
          "output_type": "stream",
          "name": "stdout",
          "text": [
            "Epoch 1/15\n"
          ]
        },
        {
          "output_type": "stream",
          "name": "stderr",
          "text": [
            "/usr/local/lib/python3.10/dist-packages/keras/src/trainers/data_adapters/py_dataset_adapter.py:121: UserWarning: Your `PyDataset` class should call `super().__init__(**kwargs)` in its constructor. `**kwargs` can include `workers`, `use_multiprocessing`, `max_queue_size`. Do not pass these arguments to `fit()`, as they will be ignored.\n",
            "  self._warn_if_super_not_called()\n"
          ]
        },
        {
          "output_type": "stream",
          "name": "stdout",
          "text": [
            "\u001b[1m56/64\u001b[0m \u001b[32m━━━━━━━━━━━━━━━━━\u001b[0m\u001b[37m━━━\u001b[0m \u001b[1m55s\u001b[0m 7s/step - accuracy: 0.5301 - loss: 1.2722 "
          ]
        },
        {
          "output_type": "stream",
          "name": "stderr",
          "text": [
            "/usr/lib/python3.10/contextlib.py:153: UserWarning: Your input ran out of data; interrupting training. Make sure that your dataset or generator can generate at least `steps_per_epoch * epochs` batches. You may need to use the `.repeat()` function when building your dataset.\n",
            "  self.gen.throw(typ, value, traceback)\n"
          ]
        },
        {
          "output_type": "stream",
          "name": "stdout",
          "text": [
            "\b\b\b\b\b\b\b\b\b\b\b\b\b\b\b\b\b\b\b\b\b\b\b\b\b\b\b\b\b\b\b\b\b\b\b\b\b\b\b\b\b\b\b\b\b\b\b\b\b\b\b\b\b\b\b\b\b\b\b\b\b\b\b\b\b\b\b\b\b\b\b\b\r\u001b[1m64/64\u001b[0m \u001b[32m━━━━━━━━━━━━━━━━━━━━\u001b[0m\u001b[37m\u001b[0m \u001b[1m727s\u001b[0m 10s/step - accuracy: 0.5333 - loss: 1.2418 - val_accuracy: 0.4724 - val_loss: 0.7016\n",
            "Epoch 2/15\n",
            "\u001b[1m64/64\u001b[0m \u001b[32m━━━━━━━━━━━━━━━━━━━━\u001b[0m\u001b[37m\u001b[0m \u001b[1m29s\u001b[0m 165ms/step - accuracy: 0.6572 - loss: 0.6379 - val_accuracy: 0.5150 - val_loss: 0.6851\n",
            "Epoch 3/15\n",
            "\u001b[1m64/64\u001b[0m \u001b[32m━━━━━━━━━━━━━━━━━━━━\u001b[0m\u001b[37m\u001b[0m \u001b[1m21s\u001b[0m 169ms/step - accuracy: 0.7393 - loss: 0.5306 - val_accuracy: 0.5624 - val_loss: 0.6753\n",
            "Epoch 4/15\n",
            "\u001b[1m64/64\u001b[0m \u001b[32m━━━━━━━━━━━━━━━━━━━━\u001b[0m\u001b[37m\u001b[0m \u001b[1m12s\u001b[0m 171ms/step - accuracy: 0.8322 - loss: 0.3858 - val_accuracy: 0.5308 - val_loss: 0.7511\n",
            "Epoch 5/15\n",
            "\u001b[1m64/64\u001b[0m \u001b[32m━━━━━━━━━━━━━━━━━━━━\u001b[0m\u001b[37m\u001b[0m \u001b[1m12s\u001b[0m 169ms/step - accuracy: 0.8963 - loss: 0.2635 - val_accuracy: 0.6335 - val_loss: 0.6334\n",
            "Epoch 6/15\n",
            "\u001b[1m64/64\u001b[0m \u001b[32m━━━━━━━━━━━━━━━━━━━━\u001b[0m\u001b[37m\u001b[0m \u001b[1m21s\u001b[0m 183ms/step - accuracy: 0.9323 - loss: 0.1891 - val_accuracy: 0.5940 - val_loss: 0.7077\n",
            "Epoch 7/15\n",
            "\u001b[1m64/64\u001b[0m \u001b[32m━━━━━━━━━━━━━━━━━━━━\u001b[0m\u001b[37m\u001b[0m \u001b[1m12s\u001b[0m 170ms/step - accuracy: 0.9497 - loss: 0.1335 - val_accuracy: 0.6303 - val_loss: 0.6820\n",
            "Epoch 8/15\n",
            "\u001b[1m64/64\u001b[0m \u001b[32m━━━━━━━━━━━━━━━━━━━━\u001b[0m\u001b[37m\u001b[0m \u001b[1m23s\u001b[0m 207ms/step - accuracy: 0.9642 - loss: 0.1041 - val_accuracy: 0.6714 - val_loss: 0.7144\n",
            "Epoch 9/15\n",
            "\u001b[1m64/64\u001b[0m \u001b[32m━━━━━━━━━━━━━━━━━━━━\u001b[0m\u001b[37m\u001b[0m \u001b[1m11s\u001b[0m 159ms/step - accuracy: 0.9614 - loss: 0.1151 - val_accuracy: 0.6635 - val_loss: 0.7447\n",
            "Epoch 10/15\n",
            "\u001b[1m64/64\u001b[0m \u001b[32m━━━━━━━━━━━━━━━━━━━━\u001b[0m\u001b[37m\u001b[0m \u001b[1m11s\u001b[0m 161ms/step - accuracy: 0.9624 - loss: 0.1086 - val_accuracy: 0.6746 - val_loss: 0.7427\n",
            "Epoch 11/15\n",
            "\u001b[1m64/64\u001b[0m \u001b[32m━━━━━━━━━━━━━━━━━━━━\u001b[0m\u001b[37m\u001b[0m \u001b[1m21s\u001b[0m 167ms/step - accuracy: 0.9682 - loss: 0.0793 - val_accuracy: 0.6414 - val_loss: 1.1806\n",
            "Epoch 12/15\n",
            "\u001b[1m64/64\u001b[0m \u001b[32m━━━━━━━━━━━━━━━━━━━━\u001b[0m\u001b[37m\u001b[0m \u001b[1m13s\u001b[0m 197ms/step - accuracy: 0.9792 - loss: 0.0552 - val_accuracy: 0.6730 - val_loss: 1.0285\n",
            "Epoch 13/15\n",
            "\u001b[1m64/64\u001b[0m \u001b[32m━━━━━━━━━━━━━━━━━━━━\u001b[0m\u001b[37m\u001b[0m \u001b[1m12s\u001b[0m 167ms/step - accuracy: 0.9744 - loss: 0.0669 - val_accuracy: 0.6935 - val_loss: 1.1525\n",
            "Epoch 14/15\n",
            "\u001b[1m64/64\u001b[0m \u001b[32m━━━━━━━━━━━━━━━━━━━━\u001b[0m\u001b[37m\u001b[0m \u001b[1m13s\u001b[0m 198ms/step - accuracy: 0.9856 - loss: 0.0444 - val_accuracy: 0.6398 - val_loss: 1.3757\n",
            "Epoch 15/15\n",
            "\u001b[1m64/64\u001b[0m \u001b[32m━━━━━━━━━━━━━━━━━━━━\u001b[0m\u001b[37m\u001b[0m \u001b[1m19s\u001b[0m 167ms/step - accuracy: 0.9698 - loss: 0.1114 - val_accuracy: 0.6635 - val_loss: 1.0739\n"
          ]
        },
        {
          "output_type": "execute_result",
          "data": {
            "text/plain": [
              "<keras.src.callbacks.history.History at 0x7992c59c0c10>"
            ]
          },
          "metadata": {},
          "execution_count": 6
        }
      ]
    },
    {
      "cell_type": "code",
      "source": [
        "import matplotlib.pyplot as plt\n",
        "\n",
        "imagem_teste = image.load_img('/content/download.jpg', target_size = (64, 64))\n",
        "imagem_teste = image.img_to_array(imagem_teste)\n",
        "imagem_teste /= 255\n",
        "imagem_teste = np.expand_dims(imagem_teste, axis = 0)\n",
        "previsao = cls.predict(imagem_teste)"
      ],
      "metadata": {
        "colab": {
          "base_uri": "https://localhost:8080/"
        },
        "id": "yJwdzy4t-wYQ",
        "outputId": "28b12b7a-f83a-4702-9979-9a51cabe595d"
      },
      "execution_count": 12,
      "outputs": [
        {
          "output_type": "stream",
          "name": "stdout",
          "text": [
            "\u001b[1m1/1\u001b[0m \u001b[32m━━━━━━━━━━━━━━━━━━━━\u001b[0m\u001b[37m\u001b[0m \u001b[1m0s\u001b[0m 17ms/step\n"
          ]
        }
      ]
    },
    {
      "cell_type": "code",
      "source": [
        "plt.imshow(imagem_teste[0])"
      ],
      "metadata": {
        "colab": {
          "base_uri": "https://localhost:8080/",
          "height": 449
        },
        "id": "OJJfhS9FA9k4",
        "outputId": "40e01700-24cf-4ce6-d916-b2e17d02012c"
      },
      "execution_count": 13,
      "outputs": [
        {
          "output_type": "execute_result",
          "data": {
            "text/plain": [
              "<matplotlib.image.AxesImage at 0x7992483ff100>"
            ]
          },
          "metadata": {},
          "execution_count": 13
        },
        {
          "output_type": "display_data",
          "data": {
            "text/plain": [
              "<Figure size 640x480 with 1 Axes>"
            ],
            "image/png": "[encoded data removed]"
          },
          "metadata": {}
        }
      ]
    },
    {
      "cell_type": "code",
      "source": [
        "if (previsao<=0.5):\n",
        "  print('cachorro')\n",
        "else:\n",
        "  print('gato')"
      ],
      "metadata": {
        "colab": {
          "base_uri": "https://localhost:8080/"
        },
        "id": "LTpQQ03hCjB3",
        "outputId": "bb730860-4afa-41d4-d869-563643cf8506"
      },
      "execution_count": 14,
      "outputs": [
        {
          "output_type": "stream",
          "name": "stdout",
          "text": [
            "cachorro\n"
          ]
        }
      ]
    }
  ]
}